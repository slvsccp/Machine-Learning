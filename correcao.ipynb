{
  "nbformat": 4,
  "nbformat_minor": 0,
  "metadata": {
    "colab": {
      "name": "correcao.ipynb",
      "provenance": [],
      "collapsed_sections": [],
      "include_colab_link": true
    },
    "kernelspec": {
      "name": "python3",
      "display_name": "Python 3"
    }
  },
  "cells": [
    {
      "cell_type": "markdown",
      "metadata": {
        "id": "view-in-github",
        "colab_type": "text"
      },
      "source": [
        "<a href=\"https://colab.research.google.com/github/slvsccp/Machine-Learning/blob/master/correcao.ipynb\" target=\"_parent\"><img src=\"https://colab.research.google.com/assets/colab-badge.svg\" alt=\"Open In Colab\"/></a>"
      ]
    },
    {
      "cell_type": "code",
      "metadata": {
        "id": "JW6Ax_Q9yxJO"
      },
      "source": [
        "from sklearn.naive_bayes import MultinomialNB\n",
        "from sklearn.tree import DecisionTreeClassifier\n",
        "from sklearn.naive_bayes import GaussianNB\n",
        "from sklearn.linear_model import LogisticRegression\n",
        "from sklearn.neighbors import KNeighborsClassifier\n",
        "import numpy as np\n",
        "import warnings \n",
        "warnings.filterwarnings('ignore')"
      ],
      "execution_count": 86,
      "outputs": []
    },
    {
      "cell_type": "code",
      "metadata": {
        "id": "-OvUbV0Ay0R9"
      },
      "source": [
        "# definindo os modelos\n",
        "multi_model = MultinomialNB()\n",
        "tree_model = DecisionTreeClassifier(max_depth=5)\n",
        "knn_model = KNeighborsClassifier(n_neighbors=5)\n",
        "logreg_model = LogisticRegression()\n",
        "gnb_model = GaussianNB()"
      ],
      "execution_count": 87,
      "outputs": []
    },
    {
      "cell_type": "code",
      "metadata": {
        "id": "-SBfKiT3y17L"
      },
      "source": [
        "# conjunto de dados\n",
        "# raças de cachorros (Poodle, Doberman, Pit Bull e Fila)\n",
        "\n",
        "animais = [\n",
        "    [1, 0, 1, 1, 0, 1, 1], # Poodle\n",
        "    [0, 0, 0, 1, 1, 0, 0], # Poodle\n",
        "    [1, 1, 1, 1, 1, 1, 0], # Poodle\n",
        "    [0, 0, 0, 0, 1, 1, 0], # Poodle\n",
        "    [1, 1, 1, 0, 1, 0, 0], # Poodle\n",
        "    [0, 1, 1, 1, 0, 1, 0], # Doberman\n",
        "    [0, 1, 1, 1, 0, 0, 1], # Doberman\n",
        "    [0, 1, 1, 1, 1, 1, 1], # Doberman\n",
        "    [0, 0, 1, 0, 0, 0, 1], # Doberman\n",
        "    [1, 1, 0, 1, 1, 0, 0], # Doberman\n",
        "    [1, 1, 0, 0, 1, 0, 1],\n",
        "    [1, 0, 0, 1, 0, 0, 1],\n",
        "    [0, 0, 0, 0, 1, 1, 1],\n",
        "    [0, 0, 0, 1, 1, 0, 0],\n",
        "    [1, 0, 1, 0, 1, 1, 0],\n",
        "    [0, 0, 0, 1, 1, 1, 0],\n",
        "    [1, 1, 1, 0, 1, 1, 0],\n",
        "    [0, 1, 1, 1, 1, 1, 0],\n",
        "    [1, 1, 0, 0, 1, 1, 1],\n",
        "    [0, 1, 1, 1, 0, 0, 1]\n",
        "]\n",
        "convencao = [\n",
        "             'Poodle', 'Poodle', 'Poodle', 'Poodle', 'Poodle',\n",
        "             'Doberman', 'Doberman', 'Doberman', 'Doberman', 'Doberman',\n",
        "             'Pit Bull', 'Pit Bull', 'Pit Bull', 'Pit Bull', 'Pit Bull',\n",
        "             'Fila', 'Fila', 'Fila', 'Fila', 'Fila'\n",
        "]"
      ],
      "execution_count": 88,
      "outputs": []
    },
    {
      "cell_type": "code",
      "metadata": {
        "id": "JGIaX11yO20A",
        "outputId": "d63cfc14-08e2-41e2-f7bd-8b4edb5ab6b9",
        "colab": {
          "base_uri": "https://localhost:8080/",
          "height": 34
        }
      },
      "source": [
        "# testando uma raça\n",
        "raca = [\n",
        "        [0, 1, 1, 1, 1, 1, 0], # Fila\n",
        "        [0, 1, 1, 1, 1, 1, 1], # Doberman\n",
        "        [0, 0, 0, 0, 1, 1, 1], # Pit Bull\n",
        "        [0, 0, 0, 0, 1, 1, 0], # Poodle\n",
        "        [1, 0, 1, 1, 0, 1, 1] # Poodle\n",
        "        ]\n",
        "\n",
        "# .fit é para o treinamento do modelo (aprendizagem)\n",
        "tree_model.fit(animais, convencao)\n",
        "tree_model.predict(raca)"
      ],
      "execution_count": 89,
      "outputs": [
        {
          "output_type": "execute_result",
          "data": {
            "text/plain": [
              "array(['Doberman', 'Doberman', 'Pit Bull', 'Fila', 'Poodle'], dtype='<U8')"
            ]
          },
          "metadata": {
            "tags": []
          },
          "execution_count": 89
        }
      ]
    },
    {
      "cell_type": "code",
      "metadata": {
        "id": "AQZ-3Nq3QmCU",
        "outputId": "684864b3-4feb-4cca-b835-0107af3aeea1",
        "colab": {
          "base_uri": "https://localhost:8080/",
          "height": 34
        }
      },
      "source": [
        "multi_model.fit(animais, convencao)\n",
        "multi_model.predict(raca)"
      ],
      "execution_count": 90,
      "outputs": [
        {
          "output_type": "execute_result",
          "data": {
            "text/plain": [
              "array(['Fila', 'Doberman', 'Pit Bull', 'Fila', 'Pit Bull'], dtype='<U8')"
            ]
          },
          "metadata": {
            "tags": []
          },
          "execution_count": 90
        }
      ]
    },
    {
      "cell_type": "code",
      "metadata": {
        "id": "5H35yK6kRGP-",
        "outputId": "479d93c0-cbe8-4fd7-e367-f94030ea4001",
        "colab": {
          "base_uri": "https://localhost:8080/",
          "height": 52
        }
      },
      "source": [
        "knn_model.fit(animais, convencao)\n",
        "knn_model.predict(raca)"
      ],
      "execution_count": 91,
      "outputs": [
        {
          "output_type": "execute_result",
          "data": {
            "text/plain": [
              "array(['Doberman', 'Doberman', 'Fila', 'Pit Bull', 'Doberman'],\n",
              "      dtype='<U8')"
            ]
          },
          "metadata": {
            "tags": []
          },
          "execution_count": 91
        }
      ]
    },
    {
      "cell_type": "code",
      "metadata": {
        "id": "jnV8UDRcRgJH"
      },
      "source": [
        ""
      ],
      "execution_count": 91,
      "outputs": []
    }
  ]
}