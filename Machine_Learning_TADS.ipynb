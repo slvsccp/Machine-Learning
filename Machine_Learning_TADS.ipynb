{
  "nbformat": 4,
  "nbformat_minor": 0,
  "metadata": {
    "colab": {
      "name": "Machine Learning - TADS.ipynb",
      "provenance": [],
      "collapsed_sections": [],
      "include_colab_link": true
    },
    "kernelspec": {
      "name": "python3",
      "display_name": "Python 3"
    }
  },
  "cells": [
    {
      "cell_type": "markdown",
      "metadata": {
        "id": "view-in-github",
        "colab_type": "text"
      },
      "source": [
        "<a href=\"https://colab.research.google.com/github/slvsccp/Machine-Learning/blob/master/Machine_Learning_TADS.ipynb\" target=\"_parent\"><img src=\"https://colab.research.google.com/assets/colab-badge.svg\" alt=\"Open In Colab\"/></a>"
      ]
    },
    {
      "cell_type": "markdown",
      "metadata": {
        "id": "RUHItwtE_fQ_"
      },
      "source": [
        "# Machine Learning\n",
        "\n",
        "Definindo, classificando, aprendendo, predizendo e analisando resultados\n",
        "\n",
        "# Você sabe identificar o que é um gato ou um cachorro?\n",
        "\n"
      ]
    },
    {
      "cell_type": "markdown",
      "metadata": {
        "id": "qqMEAyK2DRcF"
      },
      "source": [
        "## Definindo o problema\n",
        "\n",
        "+ o que queremos classificar?\n",
        "+ quais características diferenciam o conjunto?\n",
        "+ falsoso positivos e falsos negativos\n",
        "+ eliminação de objetos (se não é um gato, é um cachorro)\n",
        "\n",
        "Vamos tomar o gato como referência.\n",
        "\n",
        "A **priori** vamos selecionar três gatos para descrever nosso conjunto de dados e tabular três características\n",
        "\n",
        "<table>\n",
        "    <tr>\n",
        "        <td colspan=\"4\"  align=\"center\">GATOS</td>\n",
        "    </tr>\n",
        "    <tr>\n",
        "        <td>Animal</td>\n",
        "        <td>É fofinho?</td>\n",
        "        <td>Tem orelha pequena?</td>\n",
        "        <td>Faz miau?</td>\n",
        "    </tr>\n",
        "    <tr>\n",
        "        <td>Gato 1</td>\n",
        "        <td align=\"center\">1</td>\n",
        "        <td align=\"center\">1</td>\n",
        "        <td align=\"center\">1</td>\n",
        "    </tr>\n",
        "    <tr>\n",
        "        <td>Gato 2</td>\n",
        "        <td align=\"center\">1</td>\n",
        "        <td align=\"center\">0</td>\n",
        "        <td align=\"center\">1</td>\n",
        "    </tr>\n",
        "    <tr>\n",
        "        <td>Gato 3</td>\n",
        "        <td align=\"center\">0</td>\n",
        "        <td align=\"center\">1</td>\n",
        "        <td align=\"center\">1</td>\n",
        "    </tr>\n",
        "</table>\n",
        "\n",
        "<p>Vamos definir agora nosso cachorros.</p>\n",
        "<table>\n",
        "    <tr>\n",
        "        <td colspan=\"4\"  align=\"center\">CACHORROS</td>\n",
        "    </tr>\n",
        "    <tr>\n",
        "        <td>Animal</td>\n",
        "        <td>É fofinho?</td>\n",
        "        <td>Tem orelha pequena?</td>\n",
        "        <td>Faz miau?</td>\n",
        "    </tr>\n",
        "    <tr>\n",
        "        <td>Cachorro 1</td>\n",
        "        <td align=\"center\">1</td>\n",
        "        <td align=\"center\">1</td>\n",
        "        <td align=\"center\">0</td>\n",
        "    </tr>\n",
        "    <tr>\n",
        "        <td>Cachorro 2</td>\n",
        "        <td align=\"center\">0</td>\n",
        "        <td align=\"center\">1</td>\n",
        "        <td align=\"center\">0</td>\n",
        "    </tr>\n",
        "    <tr>\n",
        "        <td>Cachorro 3</td>\n",
        "        <td align=\"center\">0</td>\n",
        "        <td align=\"center\">1</td>\n",
        "        <td align=\"center\">0</td>\n",
        "    </tr>\n",
        "</table>\n"
      ]
    },
    {
      "cell_type": "code",
      "metadata": {
        "id": "ui0a6x1XuZsG"
      },
      "source": [
        "def legenda(vetor):\n",
        "  retorno = []\n",
        "  vetor_animais = [ [1, 'Gato'], [-1, 'Cachorro'] ]\n",
        "\n",
        "  for p in vetor:\n",
        "    if p == 1:\n",
        "      retorno.append(vetor_animais[0][1])\n",
        "    else:\n",
        "      retorno.append(vetor_animais[1][1])\n",
        "  \n",
        "  return retorno"
      ],
      "execution_count": 1,
      "outputs": []
    },
    {
      "cell_type": "markdown",
      "metadata": {
        "id": "BqS30I8qGLVm"
      },
      "source": [
        "# Montar o nosso problema"
      ]
    },
    {
      "cell_type": "code",
      "metadata": {
        "id": "L9LLvigS_G0P"
      },
      "source": [
        "#gatos\n",
        "animal1 = [1, 1, 1]\n",
        "animal2 = [1, 0, 1]\n",
        "animal3 = [0, 1, 1]\n",
        "\n",
        "#cachorros\n",
        "animal4 = [1, 1, 0]\n",
        "animal5 = [0, 1, 0]\n",
        "animal6 = [0, 1, 0]"
      ],
      "execution_count": 2,
      "outputs": []
    },
    {
      "cell_type": "markdown",
      "metadata": {
        "id": "MajDFXHpH2Jf"
      },
      "source": [
        "# Definindo o conjunto de dados"
      ]
    },
    {
      "cell_type": "code",
      "metadata": {
        "id": "wFuMxeLhH452"
      },
      "source": [
        "# cria o dataset com todos os animais\n",
        "conjunto_animais = [animal1, animal2, animal3, animal4, animal5, animal6]"
      ],
      "execution_count": 3,
      "outputs": []
    },
    {
      "cell_type": "markdown",
      "metadata": {
        "id": "Gtwxd3NNIvEK"
      },
      "source": [
        "# Informando para o algoritmo quem é gato e quem é cachorro\n",
        "\n",
        "+ 1 para gato\n",
        "+ -1 para cachorro"
      ]
    },
    {
      "cell_type": "code",
      "metadata": {
        "id": "08plcN-3I0Dk"
      },
      "source": [
        "convencao_animais = ['Vira Lata', 'Pit Bull', 1, -1, -1, -1]"
      ],
      "execution_count": 4,
      "outputs": []
    },
    {
      "cell_type": "markdown",
      "metadata": {
        "id": "ft2DWUrCKwMl"
      },
      "source": [
        "# Abordagens de ML\n",
        "\n",
        "+ SVM - Support Vector Machine\n",
        "+ Árvores de Decisão\n",
        "+ K-Nearest Neighbors\n",
        "+ Naive Bayes"
      ]
    },
    {
      "cell_type": "code",
      "metadata": {
        "id": "KVljk5unLA5s"
      },
      "source": [
        "# Importar uma biblioteca para trabalhar com os modelos de ML\n",
        "# Sklearn - https://scikit-learn.org/stable/index.html\n",
        "from sklearn.naive_bayes import MultinomialNB # biblioteca de machine learning\n",
        "import numpy as np # biblioteca numérica\n",
        "import warnings # tratamento de erros\n",
        "warnings.filterwarnings('ignore') # configuração dos erros"
      ],
      "execution_count": 5,
      "outputs": []
    },
    {
      "cell_type": "code",
      "metadata": {
        "id": "V3BDhMSBL07s",
        "outputId": "2978df52-1280-4993-ee14-98f0c5e9de90",
        "colab": {
          "base_uri": "https://localhost:8080/",
          "height": 34
        }
      },
      "source": [
        "# construir nosso modelo\n",
        "modelo = MultinomialNB()\n",
        "\n",
        "# conceitos básicos de ML\n",
        "# 1 - Treinamento (aprendizado) (fit)\n",
        "# 2 - Predição (é prever um dado baseado em outro) (predict)\n",
        "modelo.fit(conjunto_animais, convencao_animais)"
      ],
      "execution_count": 6,
      "outputs": [
        {
          "output_type": "execute_result",
          "data": {
            "text/plain": [
              "MultinomialNB(alpha=1.0, class_prior=None, fit_prior=True)"
            ]
          },
          "metadata": {
            "tags": []
          },
          "execution_count": 6
        }
      ]
    },
    {
      "cell_type": "code",
      "metadata": {
        "id": "qS2dgvF3N6di",
        "outputId": "c455d350-cafe-4080-832f-462b7d2a22d7",
        "colab": {
          "base_uri": "https://localhost:8080/",
          "height": 87
        }
      },
      "source": [
        "# verificando os índices de aprendizado\n",
        "modelo.coef_"
      ],
      "execution_count": 7,
      "outputs": [
        {
          "output_type": "execute_result",
          "data": {
            "text/plain": [
              "array([[-1.25276297, -0.55961579, -1.94591015],\n",
              "       [-1.60943791, -0.91629073, -0.91629073],\n",
              "       [-0.91629073, -1.60943791, -0.91629073],\n",
              "       [-1.09861229, -1.09861229, -1.09861229]])"
            ]
          },
          "metadata": {
            "tags": []
          },
          "execution_count": 7
        }
      ]
    },
    {
      "cell_type": "markdown",
      "metadata": {
        "id": "F5TUowmEqi7I"
      },
      "source": [
        "# Realizando Predições\n",
        "\n",
        "<table>\n",
        "    <tr>\n",
        "        <td colspan=\"4\"  align=\"center\">NOVOS ANIMAIS</td>\n",
        "    </tr>\n",
        "    <tr>\n",
        "        <td>Animal</td>\n",
        "        <td>É fofinho?</td>\n",
        "        <td>Tem orelha pequena?</td>\n",
        "        <td>Faz miau?</td>\n",
        "    </tr>\n",
        "    <tr>\n",
        "        <td>teste_1</td>\n",
        "        <td align=\"center\">1</td>\n",
        "        <td align=\"center\">1</td>\n",
        "        <td align=\"center\">1</td>\n",
        "    </tr>\n",
        "    <tr>\n",
        "        <td>teste_2</td>\n",
        "        <td align=\"center\">1</td>\n",
        "        <td align=\"center\">0</td>\n",
        "        <td align=\"center\">0</td>\n",
        "    </tr>\n",
        "    <tr>\n",
        "        <td>teste_3</td>\n",
        "        <td align=\"center\">0</td>\n",
        "        <td align=\"center\">0</td>\n",
        "        <td align=\"center\">1</td>\n",
        "    </tr>\n",
        "</table>\n",
        "\n",
        "* teste_1 = [1, 1, 1]\n",
        "* teste_2 = [1, 0, 0]\n",
        "* teste_3 = [0, 0, 1]"
      ]
    },
    {
      "cell_type": "code",
      "metadata": {
        "id": "ZsqxCKe3qhru"
      },
      "source": [
        "# criar o conjunto de dados para a realização do teste\n",
        "\n",
        "teste_1 = [1,1,1]\n",
        "teste_2 = [1,0,0]\n",
        "teste_3 = [0,0,1]\n",
        "\n",
        "dados_teste= [teste_1, teste_2, teste_3]"
      ],
      "execution_count": 8,
      "outputs": []
    },
    {
      "cell_type": "code",
      "metadata": {
        "id": "tNriebePsYQb"
      },
      "source": [
        "# executar o modelo de ML\n",
        "resultado = modelo.predict(dados_teste)"
      ],
      "execution_count": 9,
      "outputs": []
    },
    {
      "cell_type": "code",
      "metadata": {
        "id": "E_n0S-8IszRX",
        "outputId": "2c99d45d-0cf9-4b3e-fa60-036dc2c4c3a6",
        "colab": {
          "base_uri": "https://localhost:8080/",
          "height": 34
        }
      },
      "source": [
        "legenda(resultado)"
      ],
      "execution_count": 10,
      "outputs": [
        {
          "output_type": "execute_result",
          "data": {
            "text/plain": [
              "['Cachorro', 'Cachorro', 'Cachorro']"
            ]
          },
          "metadata": {
            "tags": []
          },
          "execution_count": 10
        }
      ]
    },
    {
      "cell_type": "code",
      "metadata": {
        "id": "zA41mWOWs1_E"
      },
      "source": [
        "# Analisando o resultado\n",
        "# Se de antemão era Gato, Cachorro, Gato e oresultado é Gato, Gato, Gato\n",
        "# Portanto, o algoritmo de NB tem uma acurácia de 66.66%. Ele acertou 2 em 3, que é ótimo."
      ],
      "execution_count": 11,
      "outputs": []
    },
    {
      "cell_type": "markdown",
      "metadata": {
        "id": "JtLtvX3LwSzr"
      },
      "source": [
        "# Trabalhando com outros algoritmos de ML"
      ]
    },
    {
      "cell_type": "code",
      "metadata": {
        "id": "NcmgU6nhwVsf"
      },
      "source": [
        "from sklearn.tree import DecisionTreeClassifier\n",
        "from sklearn.naive_bayes import GaussianNB\n",
        "from sklearn.linear_model import LogisticRegression\n",
        "from sklearn.neighbors import KNeighborsClassifier"
      ],
      "execution_count": 12,
      "outputs": []
    },
    {
      "cell_type": "code",
      "metadata": {
        "id": "xmD82VULx9Zv"
      },
      "source": [
        "tree_model = DecisionTreeClassifier(max_depth=10) # árvore \n",
        "knn_model = KNeighborsClassifier(n_neighbors=5) # vizinhos\n",
        "logreg_model = LogisticRegression()\n",
        "gnb_model = GaussianNB()\n",
        "\n",
        "# repetir nosso conjunto de testes\n",
        "teste_1 = [1,1,1]\n",
        "teste_2 = [1,0,0]\n",
        "teste_3 = [0,0,1]\n",
        "\n",
        "dados_teste= [teste_1, teste_2, teste_3]"
      ],
      "execution_count": 13,
      "outputs": []
    },
    {
      "cell_type": "markdown",
      "metadata": {
        "id": "hin7DlHDx8q4"
      },
      "source": [
        "# Árvore de Decisão\n",
        "\n",
        "+ #### Uma árvore de decisão é uma representação de uma tabela de decisão sob a forma de uma árvore.\n",
        "\n",
        "![legenda](https://www.researchgate.net/profile/Jorge_Ramos7/publication/312605379/figure/fig6/AS:453719444725761@1485186553048/Figura-9-Exemplo-de-Arvore-de-Decisao.png)\n",
        "\n",
        "# Algoritmo\n",
        "![legenda](https://sites.google.com/site/mansoldo1986/_/rsrc/1472876171711/home/leavesphp/classificacao-por-arvores-de-decisao/criteriodeselecaodeatributos/entropia.jpg?height=262&width=400)"
      ]
    },
    {
      "cell_type": "code",
      "metadata": {
        "id": "xbO_qIn9zDpm",
        "outputId": "ee4e4f40-0946-480c-d890-32b614e97c3b",
        "colab": {
          "base_uri": "https://localhost:8080/",
          "height": 34
        }
      },
      "source": [
        "# Árvore de Decisão\n",
        "tree_model.fit(conjunto_animais, convencao_animais)\n",
        "print(legenda(tree_model.predict(dados_teste)))"
      ],
      "execution_count": 14,
      "outputs": [
        {
          "output_type": "stream",
          "text": [
            "['Cachorro', 'Cachorro', 'Cachorro']\n"
          ],
          "name": "stdout"
        }
      ]
    },
    {
      "cell_type": "code",
      "metadata": {
        "id": "f62b2yrCzt1p",
        "outputId": "c8630676-8072-4ec7-b81b-e9ffbefa8b09",
        "colab": {
          "base_uri": "https://localhost:8080/",
          "height": 34
        }
      },
      "source": [
        "# Regressão Logística\n",
        "logreg_model.fit(conjunto_animais, convencao_animais)\n",
        "print(legenda(logreg_model.predict(dados_teste)))"
      ],
      "execution_count": 15,
      "outputs": [
        {
          "output_type": "stream",
          "text": [
            "['Cachorro', 'Cachorro', 'Cachorro']\n"
          ],
          "name": "stdout"
        }
      ]
    },
    {
      "cell_type": "code",
      "metadata": {
        "id": "wDNi_iDH16Qt",
        "outputId": "85d39df3-0b8d-490c-920c-232c04dd4bc6",
        "colab": {
          "base_uri": "https://localhost:8080/",
          "height": 34
        }
      },
      "source": [
        "# KNN\n",
        "knn_model.fit(conjunto_animais, convencao_animais)\n",
        "print(legenda(knn_model.predict(dados_teste)))"
      ],
      "execution_count": 16,
      "outputs": [
        {
          "output_type": "stream",
          "text": [
            "['Cachorro', 'Cachorro', 'Cachorro']\n"
          ],
          "name": "stdout"
        }
      ]
    },
    {
      "cell_type": "code",
      "metadata": {
        "id": "aQaExAKO2Y0A",
        "outputId": "b6c4b8c5-3214-4d6a-d8de-083e5a6ef522",
        "colab": {
          "base_uri": "https://localhost:8080/",
          "height": 34
        }
      },
      "source": [
        "# Gaussain\n",
        "gnb_model.fit(conjunto_animais, convencao_animais)\n",
        "print(legenda(gnb_model.predict(dados_teste)))"
      ],
      "execution_count": 17,
      "outputs": [
        {
          "output_type": "stream",
          "text": [
            "['Cachorro', 'Cachorro', 'Cachorro']\n"
          ],
          "name": "stdout"
        }
      ]
    },
    {
      "cell_type": "code",
      "metadata": {
        "id": "PbnlqMRP2jE7",
        "outputId": "3f065995-a092-454f-9c9e-48296dc62bb0",
        "colab": {
          "base_uri": "https://localhost:8080/",
          "height": 34
        }
      },
      "source": [
        "# Nayve Bayes - Multinominal\n",
        "mn_model = MultinomialNB()\n",
        "mn_model.fit(conjunto_animais, convencao_animais)\n",
        "print(legenda(mn_model.predict(dados_teste)))"
      ],
      "execution_count": 18,
      "outputs": [
        {
          "output_type": "stream",
          "text": [
            "['Cachorro', 'Cachorro', 'Cachorro']\n"
          ],
          "name": "stdout"
        }
      ]
    },
    {
      "cell_type": "code",
      "metadata": {
        "id": "Yd06S0V328_O"
      },
      "source": [
        ""
      ],
      "execution_count": 18,
      "outputs": []
    }
  ]
}