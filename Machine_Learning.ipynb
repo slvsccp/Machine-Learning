{
  "nbformat": 4,
  "nbformat_minor": 0,
  "metadata": {
    "colab": {
      "name": "Machine Learning.ipynb",
      "provenance": [],
      "include_colab_link": true
    },
    "kernelspec": {
      "name": "python3",
      "display_name": "Python 3"
    }
  },
  "cells": [
    {
      "cell_type": "markdown",
      "metadata": {
        "id": "view-in-github",
        "colab_type": "text"
      },
      "source": [
        "<a href=\"https://colab.research.google.com/github/slvsccp/Machine-Learning/blob/master/Machine_Learning.ipynb\" target=\"_parent\"><img src=\"https://colab.research.google.com/assets/colab-badge.svg\" alt=\"Open In Colab\"/></a>"
      ]
    },
    {
      "cell_type": "markdown",
      "metadata": {
        "id": "RUHItwtE_fQ_"
      },
      "source": [
        "# Machine Learning\n",
        "\n",
        "Definindo, classificando, aprendendo, predizendo e analisando resultados\n",
        "\n",
        "# Você sabe identificar o que é um gato ou um cachorro?\n",
        "\n"
      ]
    },
    {
      "cell_type": "markdown",
      "metadata": {
        "id": "qqMEAyK2DRcF"
      },
      "source": [
        "## Definindo o problema\n",
        "\n",
        "+ o que queremos classificar?\n",
        "+ quais características diferenciam o conjunto?\n",
        "+ falsoso positivos e falsos negativos\n",
        "+ eliminação de objetos (se não é um gato, é um cachorro)\n",
        "\n",
        "Vamos tomar o gato como referência.\n",
        "\n",
        "A **priori** vamos selecionar três gatos para descrever nosso conjunto de dados e tabular três características\n",
        "\n",
        "<table>\n",
        "    <tr>\n",
        "        <td colspan=\"4\"  align=\"center\">GATOS</td>\n",
        "    </tr>\n",
        "    <tr>\n",
        "        <td>Animal</td>\n",
        "        <td>É fofinho?</td>\n",
        "        <td>Tem orelha pequena?</td>\n",
        "        <td>Faz miau?</td>\n",
        "    </tr>\n",
        "    <tr>\n",
        "        <td>Gato 1</td>\n",
        "        <td align=\"center\">1</td>\n",
        "        <td align=\"center\">1</td>\n",
        "        <td align=\"center\">1</td>\n",
        "    </tr>\n",
        "    <tr>\n",
        "        <td>Gato 2</td>\n",
        "        <td align=\"center\">1</td>\n",
        "        <td align=\"center\">0</td>\n",
        "        <td align=\"center\">1</td>\n",
        "    </tr>\n",
        "    <tr>\n",
        "        <td>Gato 3</td>\n",
        "        <td align=\"center\">0</td>\n",
        "        <td align=\"center\">1</td>\n",
        "        <td align=\"center\">1</td>\n",
        "    </tr>\n",
        "</table>\n",
        "\n",
        "<p>Vamos definir agora nosso cachorros.</p>\n",
        "<table>\n",
        "    <tr>\n",
        "        <td colspan=\"4\"  align=\"center\">CACHORROS</td>\n",
        "    </tr>\n",
        "    <tr>\n",
        "        <td>Animal</td>\n",
        "        <td>É fofinho?</td>\n",
        "        <td>Tem orelha pequena?</td>\n",
        "        <td>Faz miau?</td>\n",
        "    </tr>\n",
        "    <tr>\n",
        "        <td>Cachorro 1</td>\n",
        "        <td align=\"center\">1</td>\n",
        "        <td align=\"center\">1</td>\n",
        "        <td align=\"center\">0</td>\n",
        "    </tr>\n",
        "    <tr>\n",
        "        <td>Cachorro 2</td>\n",
        "        <td align=\"center\">0</td>\n",
        "        <td align=\"center\">1</td>\n",
        "        <td align=\"center\">0</td>\n",
        "    </tr>\n",
        "    <tr>\n",
        "        <td>Cachorro 3</td>\n",
        "        <td align=\"center\">0</td>\n",
        "        <td align=\"center\">1</td>\n",
        "        <td align=\"center\">0</td>\n",
        "    </tr>\n",
        "</table>\n"
      ]
    },
    {
      "cell_type": "markdown",
      "metadata": {
        "id": "BqS30I8qGLVm"
      },
      "source": [
        "# Montar o nosso problema"
      ]
    },
    {
      "cell_type": "code",
      "metadata": {
        "id": "L9LLvigS_G0P"
      },
      "source": [
        "#gatos\n",
        "animal1 = [1, 1, 1]\n",
        "animal2 = [1, 0, 1]\n",
        "animal3 = [0, 1, 1]\n",
        "\n",
        "#cachorros\n",
        "animal4 = [1, 1, 0]\n",
        "animal5 = [0, 1, 0]\n",
        "animal6 = [0, 1, 0]"
      ],
      "execution_count": 7,
      "outputs": []
    },
    {
      "cell_type": "markdown",
      "metadata": {
        "id": "ChLWOmtaH51Z"
      },
      "source": [
        "Definindo o conjunto de dados"
      ]
    },
    {
      "cell_type": "code",
      "metadata": {
        "id": "WMxlNNIUIALL"
      },
      "source": [
        "# Cria o dataset com todos os animais\n",
        "conjunto_animais = [animal1, animal2, animal3, animal4, animal5, animal6]"
      ],
      "execution_count": 8,
      "outputs": []
    },
    {
      "cell_type": "markdown",
      "metadata": {
        "id": "-FWDuyfMIv82"
      },
      "source": [
        "# Informando para o algoritmo quem é gato e quem é cachorro\n",
        "\n",
        "1 para gato\n",
        "-1 para cachorro"
      ]
    },
    {
      "cell_type": "code",
      "metadata": {
        "id": "cPDU-WkvI2y3"
      },
      "source": [
        "convencao_animais = [1, 1, 1, -1, -1, -1]"
      ],
      "execution_count": 9,
      "outputs": []
    },
    {
      "cell_type": "markdown",
      "metadata": {
        "id": "BQ8kZQaKKyF4"
      },
      "source": [
        "# Abordagens de ML\n",
        "\n",
        "+ SVM - Support Vector Machine\n",
        "+ Árvores de Decisão\n",
        "+K-Nearest Neighbors\n",
        "+Naive Bayes"
      ]
    },
    {
      "cell_type": "code",
      "metadata": {
        "id": "LxzwtpUPLDia"
      },
      "source": [
        "# importar uma biblioteca para trabalhar com os modelo de ML\n",
        "# Sklearn - (https://scikit-learn.org/stable/index.html)\n",
        "from sklearn.naive_bayes import MultinomialNB # biblioteca de ML\n",
        "import numpy as np # biblioteca numérica\n",
        "import warnings # tratamentos de erros\n",
        "warnings.filterwarnings('ignore') # configuração dos erros"
      ],
      "execution_count": 10,
      "outputs": []
    },
    {
      "cell_type": "code",
      "metadata": {
        "id": "Zn2UC_I8M4KG",
        "outputId": "df64b51c-244a-4f80-e141-255292018602",
        "colab": {
          "base_uri": "https://localhost:8080/",
          "height": 34
        }
      },
      "source": [
        "# construir nosso modelo\n",
        "modelo = MultinomialNB()\n",
        "\n",
        "# conceitos básicos de ML\n",
        "# 1 - Treinamento (aprendizado)\n",
        "# 2 - Predição (é prever um dado baseado em outro)\n",
        "modelo.fit (conjunto_animais, convencao_animais)"
      ],
      "execution_count": 11,
      "outputs": [
        {
          "output_type": "execute_result",
          "data": {
            "text/plain": [
              "MultinomialNB(alpha=1.0, class_prior=None, fit_prior=True)"
            ]
          },
          "metadata": {
            "tags": []
          },
          "execution_count": 11
        }
      ]
    },
    {
      "cell_type": "code",
      "metadata": {
        "id": "CTfpmTDEOlPF",
        "outputId": "b1a5bcea-5adc-444e-dea6-544ccc2c052b",
        "colab": {
          "base_uri": "https://localhost:8080/",
          "height": 34
        }
      },
      "source": [
        "# verificando os indices de aprendizado\n",
        "modelo.coef_"
      ],
      "execution_count": 12,
      "outputs": [
        {
          "output_type": "execute_result",
          "data": {
            "text/plain": [
              "array([[-1.2039728 , -1.2039728 , -0.91629073]])"
            ]
          },
          "metadata": {
            "tags": []
          },
          "execution_count": 12
        }
      ]
    },
    {
      "cell_type": "code",
      "metadata": {
        "id": "93ARnA5zOtEZ"
      },
      "source": [
        ""
      ],
      "execution_count": null,
      "outputs": []
    }
  ]
}